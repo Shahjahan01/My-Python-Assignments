{
 "cells": [
  {
   "cell_type": "code",
   "execution_count": 1,
   "metadata": {},
   "outputs": [
    {
     "name": "stdout",
     "output_type": "stream",
     "text": [
      "Q.1\n",
      "Write a Python program to print the following string in a specific format (see the output).\n"
     ]
    }
   ],
   "source": [
    "print(\"Q.1\")\n",
    "print(\"Write a Python program to print the following string in a specific format (see the output).\")"
   ]
  },
  {
   "cell_type": "code",
   "execution_count": 3,
   "metadata": {},
   "outputs": [
    {
     "name": "stdout",
     "output_type": "stream",
     "text": [
      "Ans.1\n",
      " Twinkle, twinkle, little star, \n",
      "\t How I wonder what you are! \n",
      "\t\t Up above the world so high, \n",
      "\t\t Like a diamond in the sky. \n",
      " Twinkle, twinkle, little star, \n",
      "\t How I wonder what you are\n"
     ]
    }
   ],
   "source": [
    "print(\"Ans.1\")\n",
    "print(\" Twinkle, twinkle, little star, \\n\\t How I wonder what you are! \\n\\t\\t Up above the world so high, \\n\\t\\t Like a diamond in the sky. \\n Twinkle, twinkle, little star, \\n\\t How I wonder what you are\")"
   ]
  },
  {
   "cell_type": "code",
   "execution_count": 4,
   "metadata": {},
   "outputs": [
    {
     "name": "stdout",
     "output_type": "stream",
     "text": [
      "Q.2\n",
      "Write a Python program to get the Python version you are using\n"
     ]
    }
   ],
   "source": [
    "print(\"Q.2\")\n",
    "print(\"Write a Python program to get the Python version you are using\")"
   ]
  },
  {
   "cell_type": "code",
   "execution_count": 6,
   "metadata": {},
   "outputs": [
    {
     "name": "stdout",
     "output_type": "stream",
     "text": [
      "Ans.2\n",
      "3.7.4 (default, Aug  9 2019, 18:34:13) [MSC v.1915 64 bit (AMD64)]\n",
      "sys.version_info(major=3, minor=7, micro=4, releaselevel='final', serial=0)\n"
     ]
    }
   ],
   "source": [
    "print(\"Ans.2\")\n",
    "\n",
    "import sys\n",
    "\n",
    "print(sys.version)\n",
    "print(sys.version_info)"
   ]
  },
  {
   "cell_type": "code",
   "execution_count": 7,
   "metadata": {},
   "outputs": [
    {
     "name": "stdout",
     "output_type": "stream",
     "text": [
      "Q.3\n",
      "Write a Python program to display the current date and time.\n"
     ]
    }
   ],
   "source": [
    "print(\"Q.3\")\n",
    "print(\"Write a Python program to display the current date and time.\")"
   ]
  },
  {
   "cell_type": "code",
   "execution_count": 13,
   "metadata": {},
   "outputs": [
    {
     "name": "stdout",
     "output_type": "stream",
     "text": [
      "Ans.3\n",
      "Current date and time : \n",
      "2019-11-22 10:51:56\n"
     ]
    }
   ],
   "source": [
    "print(\"Ans.3\")\n",
    "\n",
    "import datetime\n",
    "now = datetime.datetime.now()\n",
    "print (\"Current date and time : \")\n",
    "print (now.strftime(\"%Y-%m-%d %H:%M:%S\"))"
   ]
  },
  {
   "cell_type": "code",
   "execution_count": 10,
   "metadata": {},
   "outputs": [
    {
     "name": "stdout",
     "output_type": "stream",
     "text": [
      "Q.4\n",
      "Write a Python program which accepts the radius of a circle from the user and compute the area.\n"
     ]
    }
   ],
   "source": [
    "print(\"Q.4\")\n",
    "print(\"Write a Python program which accepts the radius of a circle from the user and compute the area.\")"
   ]
  },
  {
   "cell_type": "code",
   "execution_count": 11,
   "metadata": {},
   "outputs": [
    {
     "name": "stdout",
     "output_type": "stream",
     "text": [
      "Ans.4\n",
      "input the radius of the circle : 3.14\n",
      "The area of the circle with radius 3.14 is: 30.974846927333925\n"
     ]
    }
   ],
   "source": [
    "print(\"Ans.4\")\n",
    "\n",
    "from math import pi\n",
    "\n",
    "r= float (input(\"input the radius of the circle : \"))\n",
    "print (\"The area of the circle with radius \" + str(r) + \" is: \" + str(pi * r**2))"
   ]
  },
  {
   "cell_type": "code",
   "execution_count": 12,
   "metadata": {},
   "outputs": [
    {
     "name": "stdout",
     "output_type": "stream",
     "text": [
      "Q.5\n",
      "Write a Python program which accepts the user's first and last name and print them in reverse order with a space between them.\n"
     ]
    }
   ],
   "source": [
    "print(\"Q.5\")\n",
    "print(\"Write a Python program which accepts the user's first and last name and print them in reverse order with a space between them.\")"
   ]
  },
  {
   "cell_type": "code",
   "execution_count": 17,
   "metadata": {},
   "outputs": [
    {
     "name": "stdout",
     "output_type": "stream",
     "text": [
      "Ans.5\n",
      "Write the first nameShahjahan\n",
      "Write the last nameAhmed\n",
      "Ahmed Shahjahan\n"
     ]
    }
   ],
   "source": [
    "print(\"Ans.5\")\n",
    "first_name = input(\"Write the first name\")\n",
    "last_name = input(\"Write the last name\")\n",
    "\n",
    "print(last_name + \" \" + first_name )"
   ]
  },
  {
   "cell_type": "code",
   "execution_count": 18,
   "metadata": {},
   "outputs": [
    {
     "name": "stdout",
     "output_type": "stream",
     "text": [
      "Q.6\n",
      "Write a python program which takes two inputs from user and print them addition\n"
     ]
    }
   ],
   "source": [
    "print(\"Q.6\")\n",
    "print(\"Write a python program which takes two inputs from user and print them addition\")"
   ]
  },
  {
   "cell_type": "code",
   "execution_count": 20,
   "metadata": {},
   "outputs": [
    {
     "name": "stdout",
     "output_type": "stream",
     "text": [
      "Ans.6\n",
      "103.84\n"
     ]
    }
   ],
   "source": [
    "print(\"Ans.6\")\n",
    "\n",
    "a = 100\n",
    "b = 3.84\n",
    "c = a + b\n",
    "print (c)"
   ]
  },
  {
   "cell_type": "code",
   "execution_count": 21,
   "metadata": {},
   "outputs": [
    {
     "name": "stdout",
     "output_type": "stream",
     "text": [
      "Assignment # 1\n"
     ]
    }
   ],
   "source": [
    "print (\"Assignment # 1\")"
   ]
  },
  {
   "cell_type": "code",
   "execution_count": null,
   "metadata": {},
   "outputs": [],
   "source": []
  }
 ],
 "metadata": {
  "kernelspec": {
   "display_name": "Python 3",
   "language": "python",
   "name": "python3"
  },
  "language_info": {
   "codemirror_mode": {
    "name": "ipython",
    "version": 3
   },
   "file_extension": ".py",
   "mimetype": "text/x-python",
   "name": "python",
   "nbconvert_exporter": "python",
   "pygments_lexer": "ipython3",
   "version": "3.7.4"
  }
 },
 "nbformat": 4,
 "nbformat_minor": 2
}
