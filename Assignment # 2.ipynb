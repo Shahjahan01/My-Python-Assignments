{
 "cells": [
  {
   "cell_type": "code",
   "execution_count": 7,
   "metadata": {},
   "outputs": [
    {
     "name": "stdout",
     "output_type": "stream",
     "text": [
      "Student Marks Sheet\n",
      "Enter the English marks:80\n",
      "Enter the urdu marks:98\n",
      "Enter the Maths marks:75\n",
      "Enter the Islamiat marks:65\n",
      "Enter the Science marks:78\n",
      "Student obtain marks 396\n",
      "percentage:  79.2\n",
      "Grade B\n"
     ]
    }
   ],
   "source": [
    "print(\"Student Marks Sheet\");\n",
    "English=input (\"Enter the English marks:\");\n",
    "Urdu=input (\"Enter the urdu marks:\");\n",
    "Maths=input (\"Enter the Maths marks:\");\n",
    "Islamiat=input (\"Enter the Islamiat marks:\");\n",
    "Science=input (\"Enter the Science marks:\");\n",
    "obtmarks=int(English)+int(Urdu)+int(Maths)+int(Islamiat)+int(Science);\n",
    "print (\"Student obtain marks\",obtmarks);\n",
    "avg=(obtmarks/500)*100;\n",
    "print (\"percentage: \",avg);\n",
    "\n",
    "if(avg>=90):print(\"Grade A\");\n",
    "elif(avg>=75): print(\"Grade B\");\n",
    "elif(avg>=65): print(\"Grade C\");\n",
    "elif(avg>=45): print(\"Grade D\");\n",
    "else: print(\"YOU ARE FAIL\");"
   ]
  },
  {
   "cell_type": "code",
   "execution_count": 9,
   "metadata": {},
   "outputs": [
    {
     "name": "stdout",
     "output_type": "stream",
     "text": [
      "Enter a number: 5\n",
      "This is an odd number.\n"
     ]
    }
   ],
   "source": [
    "num = int(input(\"Enter a number: \"))\n",
    "mod = num % 2\n",
    "if mod > 0:\n",
    "    print(\"This is an odd number.\")\n",
    "else:\n",
    "    print(\"This is an even number.\")"
   ]
  },
  {
   "cell_type": "code",
   "execution_count": 10,
   "metadata": {},
   "outputs": [
    {
     "data": {
      "text/plain": [
       "8"
      ]
     },
     "execution_count": 10,
     "metadata": {},
     "output_type": "execute_result"
    }
   ],
   "source": [
    "Cities_in_Pakistan = ['Karachi','Lahore','Islamabad','Peshawar','Quetta','Faislabad','Gujrwala','Hyderabad']\n",
    "len(Cities_in_Pakistan)"
   ]
  },
  {
   "cell_type": "code",
   "execution_count": 15,
   "metadata": {},
   "outputs": [
    {
     "name": "stdout",
     "output_type": "stream",
     "text": [
      "464\n"
     ]
    }
   ],
   "source": [
    "TheList = [1, 5, 6, 2, 89, 52, 100, 45, 56, 78, 30]\n",
    "total = sum(TheList)\n",
    "print (total)"
   ]
  },
  {
   "cell_type": "code",
   "execution_count": 19,
   "metadata": {},
   "outputs": [
    {
     "name": "stdout",
     "output_type": "stream",
     "text": [
      "enter the number of elements5\n",
      "enter element101\n",
      "enter element80\n",
      "enter element10\n",
      "enter element40\n",
      "enter element30\n",
      "[101, 80, 10, 40, 30]\n",
      "101\n"
     ]
    }
   ],
   "source": [
    "a=[]\n",
    "n=int(input(\"enter the number of elements\"))\n",
    "for i in range( 1, n+1):\n",
    "    b=int(input(\"enter element\"))\n",
    "    a.append(b)\n",
    "print (a)\n",
    "Largest_number = max(a)\n",
    "print (Largest_number)"
   ]
  },
  {
   "cell_type": "code",
   "execution_count": 20,
   "metadata": {},
   "outputs": [
    {
     "name": "stdout",
     "output_type": "stream",
     "text": [
      "Enter List of numbers : \t\n",
      "1 2 3 4 5\n",
      "Enter a number and all numbers less than this number will be displayed5\n",
      "1\n",
      "2\n",
      "3\n",
      "4\n"
     ]
    }
   ],
   "source": [
    "def findele():\n",
    "    n=int(input(\"Enter a number and all numbers less than this number will be displayed\"))\n",
    "    for x in a:\n",
    "        if x < n:\n",
    "            print(x)\n",
    "            \n",
    "            \n",
    "print(\"Enter List of numbers : \\t\")\n",
    "a = [int(x) for x in input().split()]\n",
    "findele()"
   ]
  },
  {
   "cell_type": "code",
   "execution_count": null,
   "metadata": {},
   "outputs": [],
   "source": []
  },
  {
   "cell_type": "code",
   "execution_count": null,
   "metadata": {},
   "outputs": [],
   "source": []
  }
 ],
 "metadata": {
  "kernelspec": {
   "display_name": "Python 3",
   "language": "python",
   "name": "python3"
  },
  "language_info": {
   "codemirror_mode": {
    "name": "ipython",
    "version": 3
   },
   "file_extension": ".py",
   "mimetype": "text/x-python",
   "name": "python",
   "nbconvert_exporter": "python",
   "pygments_lexer": "ipython3",
   "version": "3.7.4"
  }
 },
 "nbformat": 4,
 "nbformat_minor": 2
}
